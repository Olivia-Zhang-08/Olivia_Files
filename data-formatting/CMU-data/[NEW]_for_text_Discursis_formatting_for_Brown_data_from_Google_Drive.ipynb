{
  "nbformat": 4,
  "nbformat_minor": 0,
  "metadata": {
    "colab": {
      "name": "[NEW] for text: Discursis-formatting for Brown data from Google Drive.ipynb",
      "provenance": [],
      "collapsed_sections": []
    },
    "kernelspec": {
      "name": "python3",
      "display_name": "Python 3"
    }
  },
  "cells": [
    {
      "cell_type": "code",
      "metadata": {
        "id": "CgSb2QU6FoaN",
        "colab_type": "code",
        "outputId": "d259afaa-0a68-418c-f673-007ca20bef78",
        "colab": {
          "base_uri": "https://localhost:8080/",
          "height": 122
        }
      },
      "source": [
        "# connect to google drive\n",
        "# make sure 'Conversation Data Vis' is added to 'My Drive'\n",
        "\n",
        "from google.colab import drive\n",
        "drive.mount('/content/gdrive')"
      ],
      "execution_count": 0,
      "outputs": [
        {
          "output_type": "stream",
          "text": [
            "Go to this URL in a browser: https://accounts.google.com/o/oauth2/auth?client_id=947318989803-6bn6qk8qdgf4n4g3pfee6491hc0brc4i.apps.googleusercontent.com&redirect_uri=urn%3Aietf%3Awg%3Aoauth%3A2.0%3Aoob&scope=email%20https%3A%2F%2Fwww.googleapis.com%2Fauth%2Fdocs.test%20https%3A%2F%2Fwww.googleapis.com%2Fauth%2Fdrive%20https%3A%2F%2Fwww.googleapis.com%2Fauth%2Fdrive.photos.readonly%20https%3A%2F%2Fwww.googleapis.com%2Fauth%2Fpeopleapi.readonly&response_type=code\n",
            "\n",
            "Enter your authorization code:\n",
            "··········\n",
            "Mounted at /content/gdrive\n"
          ],
          "name": "stdout"
        }
      ]
    },
    {
      "cell_type": "code",
      "metadata": {
        "id": "6ZuB42VNFxyD",
        "colab_type": "code",
        "colab": {}
      },
      "source": [
        "# import pandas and numpy libraries\n",
        "import pandas as pd\n",
        "import numpy as np\n",
        "\n",
        "# read in the convo transcription file as a dataframe\n",
        "# this file should have simplified roles and cleaned text\n",
        "df = pd.read_csv('/content/gdrive/My Drive/Conversation Data Vis/Brown Annotated Convo Data/For LightSide/Cardiology1Clean_v2.csv')\n",
        "\n",
        "# extract the patient conversation with the specific ID\n",
        "df = df.loc[df['ID'] == 'HFC02P126_v_2_HS_NM']  \n",
        "\n",
        "# remove all columns except the simplified role and clean text columns, for Discursis formatting\n",
        "roleText = ['Role', 'CleanText']\n",
        "df = df[roleText]\n",
        "\n",
        "# save the trimmed data as a csv file in the drive for future reference\n",
        "df.to_csv(\"/content/gdrive/My Drive/Conversation Data Vis/Brown Annotated Convo Data/OLIVIA/Discursis/Discursis files/intermediate trimmed data/HFC02P126v2HSNM.csv\", index = False)"
      ],
      "execution_count": 0,
      "outputs": []
    },
    {
      "cell_type": "code",
      "metadata": {
        "colab_type": "code",
        "id": "E8WdmGahLQaf",
        "outputId": "d86d2a4f-abfb-4beb-9048-fa740c61923c",
        "colab": {
          "base_uri": "https://localhost:8080/",
          "height": 54
        }
      },
      "source": [
        "# read in the newly trimmed data\n",
        "ndf = pd.read_csv('/content/gdrive/My Drive/Conversation Data Vis/Brown Annotated Convo Data/OLIVIA/Discursis/Discursis files/intermediate trimmed data/HFC02P126v2HSNM.csv')\n",
        "\n",
        "# get row count for use in forloop\n",
        "rowCount = ndf.shape[0]\n",
        "\n",
        "# create new empty dataframe with columns Role and Text; this is where the final formatted data will be added\n",
        "newData = pd.DataFrame(columns=['Role','Text'])\n",
        "\n",
        "# loop over each row in the data, checking for whether the current role matches the preceding and succeeding roles; update the newly created dataframe accordingly\n",
        "for i in range(0, rowCount):\n",
        "  # specify when to create a new row in the new dataframe\n",
        "  if (i == 0 or ndf.values[i,0] != ndf.values[i-1,0]): ## cases: current row represents the first sentence of the conversation OR current role is not the same as previous role\n",
        "    newData = newData.append({'Role': ndf.values[i,0], 'Text': ndf.values[i,1]}, ignore_index=True)\n",
        "  \n",
        "  # specify when to modify a row in the new dataframe, i.e. to add another sentence string\n",
        "  elif ndf.values[i,0] == ndf.values[i-1,0]: ## case: current role is the same as previous role\n",
        "    newData.at[newData.shape[0]-1,'Text'] = newData.at[newData.shape[0]-1,'Text'] + \" \" + ndf.values[i,1]\n",
        "\n",
        "# save the final Discursis formatted data to the drive\n",
        "newData.to_csv(\"/content/gdrive/My Drive/Conversation Data Vis/Brown Annotated Convo Data/OLIVIA/Discursis/Discursis files/Discursis final format data/DiscursisForm_HFC02P126v2HSNM.csv\", index = False) \n",
        "newData['Text'].to_csv(\"/content/gdrive/My Drive/Conversation Data Vis/Brown Annotated Convo Data/OLIVIA/Discursis/Discursis files/Discursis final format data/ONLY_TEXT_HFC02P126v2HSNM.txt\", index = False)"
      ],
      "execution_count": 0,
      "outputs": [
        {
          "output_type": "stream",
          "text": [
            "/usr/local/lib/python3.6/dist-packages/ipykernel_launcher.py:21: FutureWarning: The signature of `Series.to_csv` was aligned to that of `DataFrame.to_csv`, and argument 'header' will change its default value from False to True: please pass an explicit value to suppress this warning.\n"
          ],
          "name": "stderr"
        }
      ]
    },
    {
      "cell_type": "code",
      "metadata": {
        "id": "BZpJ2wMdNhSU",
        "colab_type": "code",
        "colab": {}
      },
      "source": [
        "txt = open('/content/gdrive/My Drive/Conversation Data Vis/Brown Annotated Convo Data/OLIVIA/Discursis/Discursis files/Discursis final format data/ONLY_TEXT_HFC02P126v2HSNM.txt', 'r')\n",
        "\n",
        "nqtxt = open('/content/gdrive/My Drive/Conversation Data Vis/Brown Annotated Convo Data/OLIVIA/Discursis/Discursis files/Discursis final format data/nqHFC02P126v2HSNM.txt', 'w+')\n",
        "\n",
        "for line in txt:\n",
        "# get rid of quotation marks (which were automatically inputted due to .csv format) and save new files in the drive\n",
        "  nqline = line.replace('\"','')\n",
        "  nqtxt.write(nqline)\n",
        "\n",
        "nqtxt.close()"
      ],
      "execution_count": 0,
      "outputs": []
    },
    {
      "cell_type": "code",
      "metadata": {
        "id": "jUhyBLYBAns3",
        "colab_type": "code",
        "colab": {}
      },
      "source": [
        ""
      ],
      "execution_count": 0,
      "outputs": []
    }
  ]
}